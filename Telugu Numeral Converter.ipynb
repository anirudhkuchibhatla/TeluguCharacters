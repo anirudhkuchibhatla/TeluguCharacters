{
 "cells": [
  {
   "cell_type": "code",
   "execution_count": 2,
   "metadata": {},
   "outputs": [],
   "source": [
    "import math"
   ]
  },
  {
   "cell_type": "code",
   "execution_count": 76,
   "metadata": {},
   "outputs": [],
   "source": [
    "def convert_dec_base4(number):\n",
    "    decimal = number - math.floor(number)\n",
    "    final = '0.'\n",
    "    for i in range(15):\n",
    "        decimal = decimal * 4\n",
    "        final += str(math.floor(decimal))\n",
    "        decimal = decimal - math.floor(decimal)\n",
    "    \n",
    "    final = final.rstrip('0')\n",
    "\n",
    "    return final"
   ]
  },
  {
   "cell_type": "code",
   "execution_count": 77,
   "metadata": {},
   "outputs": [],
   "source": [
    "def convert_telugu(number):\n",
    "    \n",
    "    telugu_dig_map = {'0': '\\u0c66', '1': '\\u0c67', '2': '\\u0c68', '3': '\\u0c69', '4': '\\u0c6A', \n",
    "                      '5': '\\u0c6B', '6': '\\u0c6C', '7': '\\u0c6D', '8': '\\u0c6E', '9': '\\u0c6F'}\n",
    "    \n",
    "    telugu_odd_frac = {'0': '\\u0c78', '1': '\\u0c79', '2': '\\u0c7A', '3': '\\u0c7B'}\n",
    "    \n",
    "    telugu_even_frac = {'0': '\\u0c66', '1': '\\u0c7C', '2': '\\u0c7D', '3': '\\u0c7E'}\n",
    "    \n",
    "    integer = math.floor(number)\n",
    "#     decimal = number - math.floor(number)\n",
    "    \n",
    "    str_int = str(integer)\n",
    "    str_dec_4 = convert_dec_base4(number)[2:]\n",
    "    print(str_int + '.' + str_dec_4)\n",
    "    \n",
    "    telugu = ''\n",
    "    for c in range(len(str_int)):\n",
    "        telugu += telugu_dig_map[str_int[c]]\n",
    "        \n",
    "        \n",
    "        \n",
    "    for d in range(len(str_dec_4)):\n",
    "        if (d+1) % 2 == 1:\n",
    "            telugu += telugu_odd_frac[str_dec_4[d]]\n",
    "        else:\n",
    "            telugu += telugu_even_frac[str_dec_4[d]]\n",
    "        \n",
    "        \n",
    "    return telugu\n",
    "    "
   ]
  },
  {
   "cell_type": "code",
   "execution_count": 12,
   "metadata": {},
   "outputs": [
    {
     "data": {
      "text/plain": [
       "'0.'"
      ]
     },
     "execution_count": 12,
     "metadata": {},
     "output_type": "execute_result"
    }
   ],
   "source": [
    "convert_dec_base4(0.)"
   ]
  },
  {
   "cell_type": "code",
   "execution_count": 95,
   "metadata": {},
   "outputs": [
    {
     "name": "stdout",
     "output_type": "stream",
     "text": [
      "3.021003331222202\n"
     ]
    },
    {
     "data": {
      "text/plain": [
       "'౩౸౽౹౦౸౾౻౾౹౽౺౽౺౦౺'"
      ]
     },
     "execution_count": 95,
     "metadata": {},
     "output_type": "execute_result"
    }
   ],
   "source": [
    "convert_telugu(math.pi)"
   ]
  }
 ],
 "metadata": {
  "kernelspec": {
   "display_name": "Python 3",
   "language": "python",
   "name": "python3"
  },
  "language_info": {
   "codemirror_mode": {
    "name": "ipython",
    "version": 3
   },
   "file_extension": ".py",
   "mimetype": "text/x-python",
   "name": "python",
   "nbconvert_exporter": "python",
   "pygments_lexer": "ipython3",
   "version": "3.7.4"
  }
 },
 "nbformat": 4,
 "nbformat_minor": 2
}
